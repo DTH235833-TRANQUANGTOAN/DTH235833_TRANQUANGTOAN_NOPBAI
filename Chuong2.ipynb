{
 "cells": [
  {
   "cell_type": "code",
   "execution_count": null,
   "id": "1f35472c",
   "metadata": {},
   "outputs": [
    {
     "name": "stdout",
     "output_type": "stream",
     "text": [
      "chui vi:  18.84955592153876\n",
      "dien tich:  9.0\n"
     ]
    }
   ],
   "source": [
    "import math\n",
    "\n",
    "try:\n",
    "    r=float(input(\"Nhap ban kinh hinh tron: \"))\n",
    "    cv=2*math.pi*r\n",
    "    dt=r**2\n",
    "    print(\"chui vi: \",cv)\n",
    "    print(\"dien tich: \",dt)\n",
    "except:\n",
    "    print(\"loi\")\n"
   ]
  },
  {
   "cell_type": "code",
   "execution_count": 2,
   "id": "14c12f17",
   "metadata": {},
   "outputs": [
    {
     "name": "stdout",
     "output_type": "stream",
     "text": [
      "0 : 0 : 2\n"
     ]
    }
   ],
   "source": [
    "t=int(input(\"nhap so giay: \"))\n",
    "hour=(t//3600)%24\n",
    "minute=(t%3600)//60\n",
    "second=(t%3600)%60\n",
    "print(hour,\":\",minute,\":\",second)"
   ]
  },
  {
   "cell_type": "code",
   "execution_count": 3,
   "id": "be7c96cd",
   "metadata": {},
   "outputs": [
    {
     "name": "stdout",
     "output_type": "stream",
     "text": [
      "diem trung binh:  32.0\n",
      "diem trung binh:  32.0\n"
     ]
    }
   ],
   "source": [
    "toan=float(input(\"nhap diem toan: \"))\n",
    "ly=float(input(\"nhap diem ly: \"))\n",
    "hoa=float(input(\"nhap diem hoa: \")) \n",
    "trungbinh=(toan+ly+hoa)/3\n",
    "print(\"diem trung binh: \",trungbinh)\n",
    "print(\"diem trung binh: \",round(trungbinh,2)) #day la cach lam tron 2 chu so sau dau .\n"
   ]
  }
 ],
 "metadata": {
  "kernelspec": {
   "display_name": "Python 3",
   "language": "python",
   "name": "python3"
  },
  "language_info": {
   "name": "python",
   "version": "3.10.6"
  }
 },
 "nbformat": 4,
 "nbformat_minor": 5
}
