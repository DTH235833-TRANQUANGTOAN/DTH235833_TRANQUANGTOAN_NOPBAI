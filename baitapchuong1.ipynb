{
 "cells": [
  {
   "cell_type": "code",
   "execution_count": null,
   "metadata": {},
   "outputs": [],
   "source": [
    "print(\"chao cac ban!\")\n"
   ]
  },
  {
   "cell_type": "code",
   "execution_count": null,
   "metadata": {},
   "outputs": [],
   "source": [
    "print(\"Tran Quang Toan\")"
   ]
  },
  {
   "cell_type": "code",
   "execution_count": null,
   "metadata": {},
   "outputs": [],
   "source": [
    "print(\"minh ve minh conho ta\" \\\n",
    "\"\\nMuoi lam nam ay thiet tha man nong\" \\\n",
    "\"\\nMinh ve minh co nho khong\" \\\n",
    "\"\\nNhin cay nho nui, nhin song nho nguon\")"
   ]
  },
  {
   "cell_type": "code",
   "execution_count": 15,
   "metadata": {},
   "outputs": [
    {
     "name": "stdout",
     "output_type": "stream",
     "text": [
      "Chuỗi được nhập: sdad\n"
     ]
    }
   ],
   "source": [
    "def main():\n",
    "    chuoi = input(\"Vui lòng nhập một chuỗi ký tự: \")\n",
    "    print(\"Chuỗi được nhập:\", chuoi)\n",
    "\n",
    "if __name__ == \"__main__\":\n",
    "    main()"
   ]
  },
  {
   "cell_type": "code",
   "execution_count": null,
   "metadata": {},
   "outputs": [],
   "source": [
    "print(\"****\" \\\n",
    "\"\\n*  *\" \\\n",
    "\"\\n*  *\" \\\n",
    "\"\\n****\")"
   ]
  },
  {
   "cell_type": "code",
   "execution_count": null,
   "metadata": {},
   "outputs": [],
   "source": [
    "print(\"*********\" \\\n",
    "\"\\n*********\" \\\n",
    "\"\\n*********\" \\\n",
    "\"\\n*********\")"
   ]
  },
  {
   "cell_type": "code",
   "execution_count": null,
   "metadata": {},
   "outputs": [],
   "source": [
    "print  (\"     *     \" \\\n",
    "      \"\\n    ***    \" \\\n",
    "      \"\\n  *******  \" \\\n",
    "      \"\\n    ***    \" \\\n",
    "      \"\\n***********\" \\\n",
    "      \"\\n    * *    \" \\\n",
    "      \"\\n    * *    \")"
   ]
  }
 ],
 "metadata": {
  "kernelspec": {
   "display_name": "Python 3",
   "language": "python",
   "name": "python3"
  },
  "language_info": {
   "codemirror_mode": {
    "name": "ipython",
    "version": 3
   },
   "file_extension": ".py",
   "mimetype": "text/x-python",
   "name": "python",
   "nbconvert_exporter": "python",
   "pygments_lexer": "ipython3",
   "version": "3.10.6"
  }
 },
 "nbformat": 4,
 "nbformat_minor": 2
}
