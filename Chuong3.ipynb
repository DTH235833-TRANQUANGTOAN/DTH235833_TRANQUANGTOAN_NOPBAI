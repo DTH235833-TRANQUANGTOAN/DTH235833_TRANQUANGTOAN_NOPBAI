{
 "cells": [
  {
   "cell_type": "code",
   "execution_count": null,
   "id": "067a5e66",
   "metadata": {},
   "outputs": [],
   "source": [
    "nam=int(input(\"nhập năm: \"))\n",
    "if nam%400==0 or (nam%4==0 and nam%100!=0):\n",
    "    print(nam,\"là năm nhuận\")\n",
    "else:\n",
    "    print(nam,\"không phải năm nhuận\")"
   ]
  },
  {
   "cell_type": "code",
   "execution_count": null,
   "id": "e43f22a4",
   "metadata": {},
   "outputs": [],
   "source": [
    "thang=int(input(\"tháng mấy: \"))\n",
    "if thang in [1,3,5,7,8,10,12]:\n",
    "    print(\"tháng\",thang,\"có 31 ngày\")\n",
    "elif thang in [4,6,9,11]:\n",
    "    print(\"tháng\",thang,\"có 30 ngày\")\n",
    "elif thang==2:\n",
    "    nam=int(input(\"nhập năm: \"))\n",
    "    if nam%400==0 or (nam%4==0 and nam%100!=0):\n",
    "        print(\"tháng 2 có 29 ngày\")\n",
    "    else:\n",
    "        print(\"tháng 2 có 28 ngày\" )\n",
    "else:\n",
    "    print(thang,\"nhập sai rồi!\")"
   ]
  },
  {
   "cell_type": "code",
   "execution_count": null,
   "id": "2655c108",
   "metadata": {},
   "outputs": [],
   "source": [
    "from math import sqrt\n",
    "print (\"giải phương trình ax^2+by+c=0\")\n",
    "a=float(input(\"nhập a: \"))\n",
    "b=float(input(\"nhập b: \"))\n",
    "c=float(input(\"nhập c: \"))\n",
    "if a==0:\n",
    "    if b==0:\n",
    "        if c==0:\n",
    "            print(\"phương trình có vô số nghiệm\")\n",
    "        else:\n",
    "            print(\"phương trình vô nghiệm\")\n",
    "    else:\n",
    "        print(\"phương trình có một nghiệm: x=\", -c/b) \n",
    "else:\n",
    "    denta=b**2-4*a*c\n",
    "    if denta<0:\n",
    "        print(\"phương trình vô nghiệm\")\n",
    "    elif denta==0:\n",
    "        x=-b/(2*a)\n",
    "        print(\"phương trình có nghiệm kép: x1=x2=\",x)\n",
    "    else:\n",
    "        x1=(-b+sqrt(denta))/(2*a)\n",
    "        x2=(-b-sqrt(denta))/(2*a)\n",
    "        print(\"phương trình có hai nghiệm phân biệt:\")\n",
    "        print(\"x1=\",x1)\n",
    "        print(\"x2=\",x2)\n",
    "    \n"
   ]
  }
 ],
 "metadata": {
  "language_info": {
   "name": "python"
  }
 },
 "nbformat": 4,
 "nbformat_minor": 5
}
